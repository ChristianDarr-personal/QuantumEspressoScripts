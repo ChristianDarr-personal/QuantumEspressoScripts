{
 "cells": [
  {
   "cell_type": "markdown",
   "metadata": {},
   "source": [
    "# Quantum Espresso Automation\n",
    "Run this notebook, to run DFT calculations on a compound, and graph the results"
   ]
  },
  {
   "cell_type": "markdown",
   "metadata": {},
   "source": [
    "### Species\n",
    "Compound in the format X2YZ\n",
    "Structure either L21 or XA"
   ]
  },
  {
   "cell_type": "code",
   "execution_count": null,
   "metadata": {},
   "outputs": [],
   "source": [
    "import subprocess\n",
    "import sys\n",
    "import os\n",
    "import shutil\n",
    "import pandas as pd\n",
    "\n",
    "X='Co'\n",
    "Y='Ti'\n",
    "Z='Sn'\n",
    "compound=\"Co2TiSn\"\n",
    "structure=\"L21\"\n",
    "latticeEstimate = 10.56\n",
    "\n",
    "dir = \"Results\\\\\"+compound+\"_\"+structure\n",
    "if not os.path.exists(dir):\n",
    "    os.mkdir(dir)\n",
    "shutil.copytree(\"CubicHeuslerScripts\\\\\"+structure, dir+\"\\\\\"+structure)\n",
    "os.chdir(dir)\n",
    "\n",
    "lookupTable = pd.read_csv('LookupTable.csv', header=None, index_col=0, squeeze=True).to_dict()"
   ]
  },
  {
   "cell_type": "markdown",
   "metadata": {},
   "source": [
    "### Ecut Convergence Testing\n",
    "\n",
    "Energy cutoff calculations:\n",
    "In this section, replace the values in ecutList as needed"
   ]
  },
  {
   "cell_type": "code",
   "execution_count": null,
   "metadata": {},
   "outputs": [],
   "source": [
    "ecutList = '50 60 70 80 90 100 120 140'\n",
    "\n",
    "with open('FH_ecut_optzm.bash', 'r', encoding='utf-8') as file:\n",
    "    data = file.readlines()\n",
    "\n",
    "data[11] = \"for ecut in \"+ecutList \n",
    "data[17] = \"prefix        = '\"+compound+\"',\"\n",
    "data[27] = \"celldm(1)   = \"+latticeEstimate+\",\" \n",
    "data[54] = lookupTable[X]\n",
    "data[55] = lookupTable[Y]\n",
    "data[56] = lookupTable[Z]\n",
    "data[59] = X+\"     0.000000000         0.000000000         0.000000000\"\n",
    "data[60] = X+\"     0.500000000         0.500000000         0.500000000\"\n",
    "data[61] = Y+\"     0.250000000         0.250000000         0.250000000\"\n",
    "data[62] = Z+\"     0.750000000         0.750000000         0.750000000\"\n",
    "\n",
    "with open('FH_ecut_optzm.bash', 'w', encoding='utf-8') as file:\n",
    "    file.writelines(data)\n",
    "output = []\n",
    "ecutEstimate = subprocess.run([\"FH_ecut_optzm.bash\"], stdout=subprocess.PIPE, text=True)\n",
    "for line in iter(ecutEstimate.stdout.readline, b''):\n",
    "    output.append(float(line))\n",
    "ecutEstimate.stdout.close()"
   ]
  },
  {
   "cell_type": "markdown",
   "metadata": {},
   "source": [
    "### Convergence Graphing"
   ]
  },
  {
   "cell_type": "code",
   "execution_count": null,
   "metadata": {},
   "outputs": [],
   "source": [
    "import matplotlib.pyplot as plt\n",
    "from matplotlib import rcParamsDefault\n",
    "import numpy as np\n",
    "%matplotlib inline\n",
    "plt.rcParams[\"figure.dpi\"]=150\n",
    "plt.rcParams[\"figure.facecolor\"]=\"white\"\n",
    "\n",
    "x, y = np.loadtxt('../src/silicon/etot-vs-ecutwfc.dat', delimiter=' ', unpack=True)\n",
    "plt.plot(x, y, \"o-\", markersize=5, label='Etot vs ecutwfc')\n",
    "plt.xlabel('ecutwfc (Ry)')\n",
    "plt.ylabel('Etot (Ry)')\n",
    "plt.legend(frameon=False)\n",
    "plt.show()"
   ]
  },
  {
   "cell_type": "markdown",
   "metadata": {},
   "source": [
    "### Kpoint Convergence Testing\n",
    "In this section, replace the values in kpointList as needed\n"
   ]
  },
  {
   "cell_type": "code",
   "execution_count": null,
   "metadata": {},
   "outputs": [],
   "source": [
    "kpointList = '6 8 10 12 14 16 18 20'\n",
    "\n",
    "with open('FH_kpoint_optzm.bash', 'r', encoding='utf-8') as file:\n",
    "    data = file.readlines()\n",
    "\n",
    "data[11] = \"for k in \"+kpointList \n",
    "data[17] = \"prefix        = '\"+compound+\"',\"\n",
    "data[27] = \"celldm(1)   = \"+latticeEstimate+\",\" \n",
    "data[54] = lookupTable[X]\n",
    "data[55] = lookupTable[Y]\n",
    "data[56] = lookupTable[Z]\n",
    "data[59] = X+\"     0.000000000         0.000000000         0.000000000\"\n",
    "data[60] = X+\"     0.500000000         0.500000000         0.500000000\"\n",
    "data[61] = Y+\"     0.250000000         0.250000000         0.250000000\"\n",
    "data[62] = Z+\"     0.750000000         0.750000000         0.750000000\"\n",
    "\n",
    "with open('FH_kpoint_optzm.bash', 'w', encoding='utf-8') as file:\n",
    "    file.writelines(data)\n",
    "\n",
    "output = []\n",
    "kpointEstimate = subprocess.run([\"FH_kpoint_optzm.bash\"], stdout=subprocess.PIPE, text=True)\n",
    "for line in iter(kpointEstimate.stdout.readline, b''):\n",
    "    output.append(float(line))\n",
    "kpointEstimate.stdout.close()"
   ]
  },
  {
   "cell_type": "markdown",
   "metadata": {},
   "source": [
    "### Kpoint Convergence Graphing"
   ]
  },
  {
   "cell_type": "code",
   "execution_count": null,
   "metadata": {},
   "outputs": [],
   "source": [
    "x, y = np.loadtxt('../src/silicon/etot-vs-kpoint.dat', delimiter=' ', unpack=True)\n",
    "plt.plot(x, y, \"o-\", markersize=5, label='Etot vs kpoints')\n",
    "plt.xlabel('# kpoints')\n",
    "plt.ylabel('Etot (Ry)')\n",
    "plt.legend(frameon=False)\n",
    "plt.show()"
   ]
  },
  {
   "cell_type": "markdown",
   "metadata": {},
   "source": [
    "### Lattice Optimization\n",
    "Enter lattice estimate here below, for parabola triangulation\n"
   ]
  },
  {
   "cell_type": "code",
   "execution_count": null,
   "metadata": {},
   "outputs": [],
   "source": [
    "def latticeParabola(x1, x2, x3, y1, y2, y3, xP, yP):\n",
    "    denom = (x1 - x2)(x1 - x3)(x2 - x3)\n",
    "    a = (x3 * (y2 - y1) + x2 * (y1 - y3) + x1 * (y3 - y2))\n",
    "    b = (x3^2 * (y1 - y2) + x2^2 * (y3 - y1) + x1^2 * (y2 - y3))\n",
    "    c = (x2 * x3 * (x2 - x3) * y1 + x3 * x1 * (x3 - x1) * y2 + x1 * x2 * (x1 - x2) * y3)\n",
    "    xP = -b/ (2 * a)\n",
    "    yP = (c - b^2 / (4 * a)) / denom\n",
    "\n",
    "inputParam = str(latticeEstimate) + \" \" + str(latticeEstimate + 0.001) + \" \" + str(latticeEstimate + 0.002)\n",
    "output = []\n",
    "\n",
    "latticeEstimate = subprocess.run([\"FH_lattice_optzm.bash\", inputParam], stdout=subprocess.PIPE, text=True)\n",
    "for line in iter(latticeEstimate.stdout.readline, b''):\n",
    "    output.append(float(line))\n",
    "latticeEstimate.stdout.close()\n",
    "\n",
    "xP = 0\n",
    "yP = 0\n",
    "latticeParabola(latticeEstimate, latticeEstimate+ 0.001, latticeEstimate+0.002, output[0], output[1], output[2],xP, yP)\n",
    "print(\"lattice vertex x=\",xP,\" and y=\", yP)"
   ]
  },
  {
   "cell_type": "markdown",
   "metadata": {},
   "source": [
    "### Lattice Optimization Convergence Graphing"
   ]
  },
  {
   "cell_type": "code",
   "execution_count": null,
   "metadata": {},
   "outputs": [],
   "source": [
    "x, y = np.loadtxt('../src/silicon/etot-vs-alat.dat', delimiter=' ', unpack=True)\n",
    "plt.plot(x, y, \"o-\", markersize=5, label='Etot vs alat')\n",
    "plt.xlabel('alat (Bohr)')\n",
    "plt.ylabel('Etot (Ry)')\n",
    "plt.legend(frameon=False)\n",
    "plt.show()"
   ]
  },
  {
   "cell_type": "markdown",
   "metadata": {},
   "source": [
    "### Relaxation Run"
   ]
  },
  {
   "cell_type": "code",
   "execution_count": null,
   "metadata": {},
   "outputs": [],
   "source": []
  },
  {
   "cell_type": "markdown",
   "metadata": {},
   "source": [
    "### NSCF and SCF Runs"
   ]
  },
  {
   "cell_type": "code",
   "execution_count": null,
   "metadata": {},
   "outputs": [],
   "source": []
  },
  {
   "cell_type": "markdown",
   "metadata": {},
   "source": [
    "### DOS"
   ]
  },
  {
   "cell_type": "code",
   "execution_count": null,
   "metadata": {},
   "outputs": [],
   "source": []
  },
  {
   "cell_type": "markdown",
   "metadata": {},
   "source": [
    "### DOS Graph"
   ]
  },
  {
   "cell_type": "code",
   "execution_count": null,
   "metadata": {},
   "outputs": [],
   "source": [
    "import matplotlib.pyplot as plt\n",
    "from matplotlib import rcParamsDefault\n",
    "import numpy as np\n",
    "%matplotlib inline\n",
    "\n",
    "# load data\n",
    "energy, dos, idos = np.loadtxt('../src/silicon/si_dos.dat', unpack=True)\n",
    "\n",
    "# make plot\n",
    "plt.figure(figsize = (12, 6))\n",
    "plt.plot(energy, dos, linewidth=0.75, color='red')\n",
    "plt.yticks([])\n",
    "plt.xlabel('Energy (eV)')\n",
    "plt.ylabel('DOS')\n",
    "plt.axvline(x=6.642, linewidth=0.5, color='k', linestyle=(0, (8, 10)))\n",
    "plt.xlim(-6, 16)\n",
    "plt.ylim(0, )\n",
    "plt.fill_between(energy, 0, dos, where=(energy < 6.642), facecolor='red', alpha=0.25)\n",
    "plt.text(6, 1.7, 'Fermi energy', fontsize= med, rotation=90)\n",
    "plt.show()"
   ]
  },
  {
   "cell_type": "markdown",
   "metadata": {},
   "source": [
    "### Bands"
   ]
  },
  {
   "cell_type": "code",
   "execution_count": null,
   "metadata": {},
   "outputs": [],
   "source": []
  },
  {
   "cell_type": "markdown",
   "metadata": {},
   "source": [
    "### Bands Graph"
   ]
  },
  {
   "cell_type": "code",
   "execution_count": null,
   "metadata": {},
   "outputs": [],
   "source": [
    "import matplotlib.pyplot as plt\n",
    "from matplotlib import rcParamsDefault\n",
    "import numpy as np\n",
    "%matplotlib inline\n",
    "\n",
    "plt.rcParams[\"figure.dpi\"]=150\n",
    "plt.rcParams[\"figure.facecolor\"]=\"white\"\n",
    "plt.rcParams[\"figure.figsize\"]=(8, 6)\n",
    "\n",
    "# load data\n",
    "data = np.loadtxt('../src/silicon/si_bands.dat.gnu')\n",
    "\n",
    "k = np.unique(data[:, 0])\n",
    "bands = np.reshape(data[:, 1], (-1, len(k)))\n",
    "\n",
    "for band in range(len(bands)):\n",
    "    plt.plot(k, bands[band, :], linewidth=1, alpha=0.5, color='k')\n",
    "plt.xlim(min(k), max(k))\n",
    "\n",
    "# Fermi energy\n",
    "plt.axhline(6.6416, linestyle=(0, (5, 5)), linewidth=0.75, color='k', alpha=0.5)\n",
    "# High symmetry k-points (check bands_pp.out)\n",
    "plt.axvline(0.8660, linewidth=0.75, color='k', alpha=0.5)\n",
    "plt.axvline(1.8660, linewidth=0.75, color='k', alpha=0.5)\n",
    "plt.axvline(2.2196, linewidth=0.75, color='k', alpha=0.5)\n",
    "# text labels\n",
    "plt.xticks(ticks= [0, 0.8660, 1.8660, 2.2196, 3.2802], \\\n",
    "           labels=['L', '$\\Gamma$', 'X', 'U', '$\\Gamma$'])\n",
    "plt.ylabel(\"Energy (eV)\")\n",
    "plt.text(2.3, 5.6, 'Fermi energy', fontsize= small)\n",
    "plt.show()"
   ]
  }
 ],
 "metadata": {
  "kernelspec": {
   "display_name": "Python 3.11.0rc1 64-bit (windows store)",
   "language": "python",
   "name": "python3"
  },
  "language_info": {
   "name": "python",
   "version": "3.11.0"
  },
  "orig_nbformat": 4,
  "vscode": {
   "interpreter": {
    "hash": "de4ada23b443ecc2988f5120788ac3973913e6b1539e79a4144da2dbbc71a7b6"
   }
  }
 },
 "nbformat": 4,
 "nbformat_minor": 2
}
