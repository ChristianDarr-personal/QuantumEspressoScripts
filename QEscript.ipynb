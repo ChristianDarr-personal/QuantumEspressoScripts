{
 "cells": [
  {
   "cell_type": "markdown",
   "metadata": {},
   "source": [
    "# Quantum Espresso Automation\n",
    "Run this notebook, to run DFT calculations on a compound, and graph the results"
   ]
  },
  {
   "cell_type": "markdown",
   "metadata": {},
   "source": [
    "### Species\n",
    "Compound in the format X2YZ\n",
    "Structure either L21 or XA"
   ]
  },
  {
   "cell_type": "code",
   "execution_count": 13,
   "metadata": {},
   "outputs": [
    {
     "name": "stderr",
     "output_type": "stream",
     "text": [
      "/tmp/ipykernel_4103/3737638184.py:27: FutureWarning: The squeeze argument has been deprecated and will be removed in a future version. Append .squeeze(\"columns\") to the call to squeeze.\n",
      "\n",
      "\n",
      "  lookupTable = pd.read_csv(lookupPath, header=None, index_col=0, squeeze=True).to_dict()\n"
     ]
    }
   ],
   "source": [
    "import subprocess\n",
    "import sys\n",
    "from pathlib import Path\n",
    "import os\n",
    "import shutil\n",
    "import pandas as pd\n",
    "import re\n",
    "\n",
    "X='Co'\n",
    "Y='Ti'\n",
    "Z='Sn'\n",
    "compound=\"Co2TiSn\"\n",
    "structure=\"L21\"\n",
    "latticeEstimate = 10.56\n",
    "\n",
    "\n",
    "absPath = os.path.abspath(os.path.dirname(__vsc_ipynb_file__))\n",
    "structPath= os.path.join(absPath, \"Results\", compound, structure)\n",
    "homeTree = os.path.join(absPath, \"CubicHeuslerScripts\", structure)\n",
    "lookupPath = os.path.join(absPath, \"LookupTable.csv\")\n",
    "\n",
    "if os.path.exists(structPath):\n",
    "    shutil.rmtree(structPath)\n",
    "shutil.copytree(homeTree, structPath)\n",
    "os.chdir(structPath)\n",
    "\n",
    "lookupTable = pd.read_csv(lookupPath, header=None, index_col=0, squeeze=True).to_dict()"
   ]
  },
  {
   "cell_type": "markdown",
   "metadata": {},
   "source": [
    "### Ecut Convergence Testing\n",
    "\n",
    "Energy cutoff calculations:\n",
    "In this section, replace the values in ecutList as needed"
   ]
  },
  {
   "cell_type": "code",
   "execution_count": 15,
   "metadata": {},
   "outputs": [
    {
     "name": "stderr",
     "output_type": "stream",
     "text": [
      "/home/vagrant/QuantumEspressoScripts/Results/Co2TiSn/L21/FH_ecut_optzm.bash: line 85: warning: here-document at line 13 delimited by end-of-file (wanted `EOF')\n",
      "/home/vagrant/QuantumEspressoScripts/Results/Co2TiSn/L21/FH_ecut_optzm.bash: line 86: syntax error: unexpected end of file\n"
     ]
    },
    {
     "ename": "AttributeError",
     "evalue": "'str' object has no attribute 'readline'",
     "output_type": "error",
     "traceback": [
      "\u001b[0;31m---------------------------------------------------------------------------\u001b[0m",
      "\u001b[0;31mAttributeError\u001b[0m                            Traceback (most recent call last)",
      "Cell \u001b[0;32mIn[15], line 21\u001b[0m\n\u001b[1;32m     19\u001b[0m output \u001b[39m=\u001b[39m []\n\u001b[1;32m     20\u001b[0m ecutEstimate \u001b[39m=\u001b[39m subprocess\u001b[39m.\u001b[39mrun([os\u001b[39m.\u001b[39mpath\u001b[39m.\u001b[39mjoin(structPath, \u001b[39m\"\u001b[39m\u001b[39mFH_ecut_optzm.bash\u001b[39m\u001b[39m\"\u001b[39m)], stdout\u001b[39m=\u001b[39msubprocess\u001b[39m.\u001b[39mPIPE, text\u001b[39m=\u001b[39m\u001b[39mTrue\u001b[39;00m)\n\u001b[0;32m---> 21\u001b[0m \u001b[39mfor\u001b[39;00m line \u001b[39min\u001b[39;00m \u001b[39miter\u001b[39m(ecutEstimate\u001b[39m.\u001b[39;49mstdout\u001b[39m.\u001b[39;49mreadline, \u001b[39mb\u001b[39m\u001b[39m'\u001b[39m\u001b[39m'\u001b[39m):\n\u001b[1;32m     22\u001b[0m     output\u001b[39m.\u001b[39mappend(\u001b[39mfloat\u001b[39m(line))\n\u001b[1;32m     23\u001b[0m ecutEstimate\u001b[39m.\u001b[39mstdout\u001b[39m.\u001b[39mclose()\n",
      "\u001b[0;31mAttributeError\u001b[0m: 'str' object has no attribute 'readline'"
     ]
    }
   ],
   "source": [
    "ecutList = '50 60 70 80 90 100 120 140'\n",
    "ecutBash = os.path.join(structPath, \"FH_ecut_optzm.bash\")\n",
    "with open(ecutBash, 'r', encoding='utf-8') as file:\n",
    "    data = file.readlines()\n",
    "\n",
    "data[10] = \"for ecut in \"+ecutList+ \"\\n\"\n",
    "data[16] = re.sub(\"X2YZ\", compound, data[16], count=0, flags=0)\n",
    "data[26] = re.sub(\"[0-9]*\\.[0-9]+\", str(latticeEstimate), data[26], count=0, flags=0)\n",
    "data[53] = lookupTable[X] + \"\\n\"\n",
    "data[54] = lookupTable[Y] + \"\\n\"\n",
    "data[55] = lookupTable[Z] + \"\\n\"\n",
    "data[58] = X+\"     0.000000000         0.000000000         0.000000000\" + \"\\n\"\n",
    "data[59] = X+\"     0.500000000         0.500000000         0.500000000\" + \"\\n\"\n",
    "data[60] = Y+\"     0.250000000         0.250000000         0.250000000\" + \"\\n\"\n",
    "data[61] = Z+\"     0.750000000         0.750000000         0.750000000\" + \"\\n\"\n",
    "\n",
    "with open('FH_ecut_optzm.bash', 'w', encoding='utf-8') as file:\n",
    "    file.writelines(data)\n",
    "output = []\n",
    "ecutEstimate = subprocess.run([os.path.join(structPath, \"FH_ecut_optzm.bash\")], stdout=subprocess.PIPE, text=True)\n",
    "for line in iter(ecutEstimate.stdout.readline, b''):\n",
    "    output.append(float(line))\n",
    "ecutEstimate.stdout.close()"
   ]
  },
  {
   "cell_type": "markdown",
   "metadata": {},
   "source": [
    "### Convergence Graphing"
   ]
  },
  {
   "cell_type": "code",
   "execution_count": null,
   "metadata": {},
   "outputs": [],
   "source": [
    "import matplotlib.pyplot as plt\n",
    "from matplotlib import rcParamsDefault\n",
    "import numpy as np\n",
    "%matplotlib inline\n",
    "plt.rcParams[\"figure.dpi\"]=150\n",
    "plt.rcParams[\"figure.facecolor\"]=\"white\"\n",
    "\n",
    "x, y = np.loadtxt('../src/silicon/etot-vs-ecutwfc.dat', delimiter=' ', unpack=True)\n",
    "plt.plot(x, y, \"o-\", markersize=5, label='Etot vs ecutwfc')\n",
    "plt.xlabel('ecutwfc (Ry)')\n",
    "plt.ylabel('Etot (Ry)')\n",
    "plt.legend(frameon=False)\n",
    "plt.show()"
   ]
  },
  {
   "cell_type": "markdown",
   "metadata": {},
   "source": [
    "### Kpoint Convergence Testing\n",
    "In this section, replace the values in kpointList as needed\n"
   ]
  },
  {
   "cell_type": "code",
   "execution_count": null,
   "metadata": {},
   "outputs": [],
   "source": [
    "kpointList = '6 8 10 12 14 16 18 20'\n",
    "\n",
    "with open('FH_kpoint_optzm.bash', 'r', encoding='utf-8') as file:\n",
    "    data = file.readlines()\n",
    "\n",
    "data[11] = \"for k in \"+kpointList \n",
    "data[17] = \"prefix        = '\"+compound+\"',\"\n",
    "data[27] = \"celldm(1)   = \"+latticeEstimate+\",\" \n",
    "data[54] = lookupTable[X]\n",
    "data[55] = lookupTable[Y]\n",
    "data[56] = lookupTable[Z]\n",
    "data[59] = X+\"     0.000000000         0.000000000         0.000000000\"\n",
    "data[60] = X+\"     0.500000000         0.500000000         0.500000000\"\n",
    "data[61] = Y+\"     0.250000000         0.250000000         0.250000000\"\n",
    "data[62] = Z+\"     0.750000000         0.750000000         0.750000000\"\n",
    "\n",
    "with open('FH_kpoint_optzm.bash', 'w', encoding='utf-8') as file:\n",
    "    file.writelines(data)\n",
    "\n",
    "output = []\n",
    "kpointEstimate = subprocess.run([\"FH_kpoint_optzm.bash\"], stdout=subprocess.PIPE, text=True)\n",
    "for line in iter(kpointEstimate.stdout.readline, b''):\n",
    "    output.append(float(line))\n",
    "kpointEstimate.stdout.close()"
   ]
  },
  {
   "cell_type": "markdown",
   "metadata": {},
   "source": [
    "### Kpoint Convergence Graphing"
   ]
  },
  {
   "cell_type": "code",
   "execution_count": null,
   "metadata": {},
   "outputs": [],
   "source": [
    "x, y = np.loadtxt('../src/silicon/etot-vs-kpoint.dat', delimiter=' ', unpack=True)\n",
    "plt.plot(x, y, \"o-\", markersize=5, label='Etot vs kpoints')\n",
    "plt.xlabel('# kpoints')\n",
    "plt.ylabel('Etot (Ry)')\n",
    "plt.legend(frameon=False)\n",
    "plt.show()"
   ]
  },
  {
   "cell_type": "markdown",
   "metadata": {},
   "source": [
    "### Lattice Optimization\n",
    "Enter lattice estimate here below, for parabola triangulation\n"
   ]
  },
  {
   "cell_type": "code",
   "execution_count": null,
   "metadata": {},
   "outputs": [],
   "source": [
    "def latticeParabola(x1, x2, x3, y1, y2, y3, xP, yP):\n",
    "    denom = (x1 - x2)(x1 - x3)(x2 - x3)\n",
    "    a = (x3 * (y2 - y1) + x2 * (y1 - y3) + x1 * (y3 - y2))\n",
    "    b = (x3^2 * (y1 - y2) + x2^2 * (y3 - y1) + x1^2 * (y2 - y3))\n",
    "    c = (x2 * x3 * (x2 - x3) * y1 + x3 * x1 * (x3 - x1) * y2 + x1 * x2 * (x1 - x2) * y3)\n",
    "    xP = -b/ (2 * a)\n",
    "    yP = (c - b^2 / (4 * a)) / denom\n",
    "\n",
    "inputParam = str(latticeEstimate) + \" \" + str(latticeEstimate + 0.001) + \" \" + str(latticeEstimate + 0.002)\n",
    "output = []\n",
    "\n",
    "latticeEstimate = subprocess.run([\"FH_lattice_optzm.bash\", inputParam], stdout=subprocess.PIPE, text=True)\n",
    "for line in iter(latticeEstimate.stdout.readline, b''):\n",
    "    output.append(float(line))\n",
    "latticeEstimate.stdout.close()\n",
    "\n",
    "xP = 0\n",
    "yP = 0\n",
    "latticeParabola(latticeEstimate, latticeEstimate+ 0.001, latticeEstimate+0.002, output[0], output[1], output[2],xP, yP)\n",
    "print(\"lattice vertex x=\",xP,\" and y=\", yP)"
   ]
  },
  {
   "cell_type": "markdown",
   "metadata": {},
   "source": [
    "### Lattice Optimization Convergence Graphing"
   ]
  },
  {
   "cell_type": "code",
   "execution_count": null,
   "metadata": {},
   "outputs": [],
   "source": [
    "x, y = np.loadtxt('../src/silicon/etot-vs-alat.dat', delimiter=' ', unpack=True)\n",
    "plt.plot(x, y, \"o-\", markersize=5, label='Etot vs alat')\n",
    "plt.xlabel('alat (Bohr)')\n",
    "plt.ylabel('Etot (Ry)')\n",
    "plt.legend(frameon=False)\n",
    "plt.show()"
   ]
  },
  {
   "cell_type": "markdown",
   "metadata": {},
   "source": [
    "### Relaxation Run"
   ]
  },
  {
   "cell_type": "code",
   "execution_count": null,
   "metadata": {},
   "outputs": [],
   "source": [
    "atomicPos = []\n",
    "latticeVertex = xP\n",
    "relaxationRun = subprocess.run([\"FH_relax.bash\", latticeVertex], stdout=subprocess.PIPE, text=True)\n",
    "for line in iter(relaxationRun.stdout.readline, b''):\n",
    "    if(count >= 0):\n",
    "        atomicPos.append(line.split(None))\n",
    "        count += 1\n",
    "        if(count == 3):\n",
    "            count = -1\n",
    "    \n",
    "    if(line.split(None)[0] == \"ATOMIC_POSITION\"):\n",
    "        count = 0\n",
    "relaxationRun.stdout.close()\n"
   ]
  },
  {
   "cell_type": "markdown",
   "metadata": {},
   "source": [
    "### SCF Preparation"
   ]
  },
  {
   "cell_type": "code",
   "execution_count": null,
   "metadata": {},
   "outputs": [],
   "source": [
    "with open('FH_scf.bash', 'r', encoding='utf-8') as file:\n",
    "    data = file.readlines()\n",
    "\n",
    "data[11] = \"for k in \"+latticeVertex\n",
    "data[17] = \"prefix        = '\"+compound+\"',\"\n",
    "data[27] = \"celldm(1)   = \"+latticeVertex+\",\" \n",
    "data[38] = \"  occupations = 'smearing',\"\n",
    "data[54] = lookupTable[X]\n",
    "data[55] = lookupTable[Y]\n",
    "data[56] = lookupTable[Z]\n",
    "data[59] = X+\"     \"+atomicPos[0][1]+\"         \"+atomicPos[0][2]+\"         \"+atomicPos[0][3]\n",
    "data[60] = X+\"     \"+atomicPos[1][1]+\"         \"+atomicPos[1][2]+\"         \"+atomicPos[1][3]\n",
    "data[61] = Y+\"     \"+atomicPos[2][1]+\"         \"+atomicPos[2][2]+\"         \"+atomicPos[2][3]\n",
    "data[62] = Z+\"     \"+atomicPos[3][1]+\"         \"+atomicPos[3][2]+\"         \"+atomicPos[3][3]\n",
    "\n",
    "with open('FH_kpoint_optzm.bash', 'w', encoding='utf-8') as file:\n",
    "    file.writelines(data)"
   ]
  },
  {
   "cell_type": "markdown",
   "metadata": {},
   "source": [
    "### SCF Run"
   ]
  },
  {
   "cell_type": "code",
   "execution_count": null,
   "metadata": {},
   "outputs": [],
   "source": [
    "output = []\n",
    "latticeVertex = xP\n",
    "scfRun = subprocess.run([\"FH_relax.bash\", latticeVertex], stdout=subprocess.PIPE, text=True)\n",
    "for line in iter(scfRun.stdout.readline, b''):\n",
    "    if(line.split(None)[0] == \"ATOMIC_POSITION\"):\n",
    "        x = [X]\n",
    "        x.append(line.split(None))\n",
    "        output.append(x)\n",
    "    output.append(line)\n",
    "scfRun.stdout.close()\n",
    "\n",
    "print(output)"
   ]
  },
  {
   "cell_type": "markdown",
   "metadata": {},
   "source": [
    "### DOS"
   ]
  },
  {
   "cell_type": "code",
   "execution_count": null,
   "metadata": {},
   "outputs": [],
   "source": [
    "output = []\n",
    "\n",
    "relxationRun = subprocess.run([\"FH_relax.bash\", xP], stdout=subprocess.PIPE, text=True)\n",
    "for line in iter(relxationRun.stdout.readline, b''):\n",
    "    output.append(float(line))\n",
    "relaxationRun.stdout.close()"
   ]
  },
  {
   "cell_type": "markdown",
   "metadata": {},
   "source": [
    "### DOS Graph"
   ]
  },
  {
   "cell_type": "code",
   "execution_count": null,
   "metadata": {},
   "outputs": [],
   "source": [
    "import matplotlib.pyplot as plt\n",
    "from matplotlib import rcParamsDefault\n",
    "import numpy as np\n",
    "%matplotlib inline\n",
    "\n",
    "# load data\n",
    "energy, dos, idos = np.loadtxt('../src/silicon/si_dos.dat', unpack=True)\n",
    "\n",
    "# make plot\n",
    "plt.figure(figsize = (12, 6))\n",
    "plt.plot(energy, dos, linewidth=0.75, color='red')\n",
    "plt.yticks([])\n",
    "plt.xlabel('Energy (eV)')\n",
    "plt.ylabel('DOS')\n",
    "plt.axvline(x=6.642, linewidth=0.5, color='k', linestyle=(0, (8, 10)))\n",
    "plt.xlim(-6, 16)\n",
    "plt.ylim(0, )\n",
    "plt.fill_between(energy, 0, dos, where=(energy < 6.642), facecolor='red', alpha=0.25)\n",
    "plt.text(6, 1.7, 'Fermi energy', fontsize= med, rotation=90)\n",
    "plt.show()"
   ]
  },
  {
   "cell_type": "markdown",
   "metadata": {},
   "source": [
    "### Bands"
   ]
  },
  {
   "cell_type": "code",
   "execution_count": null,
   "metadata": {},
   "outputs": [],
   "source": [
    "output = []\n",
    "\n",
    "relxationRun = subprocess.run([\"FH_relax.bash\", xP], stdout=subprocess.PIPE, text=True)\n",
    "for line in iter(relxationRun.stdout.readline, b''):\n",
    "    output.append(float(line))\n",
    "relaxationRun.stdout.close()"
   ]
  },
  {
   "cell_type": "markdown",
   "metadata": {},
   "source": [
    "### Bands Graph"
   ]
  },
  {
   "cell_type": "code",
   "execution_count": null,
   "metadata": {},
   "outputs": [],
   "source": [
    "import matplotlib.pyplot as plt\n",
    "from matplotlib import rcParamsDefault\n",
    "import numpy as np\n",
    "%matplotlib inline\n",
    "\n",
    "plt.rcParams[\"figure.dpi\"]=150\n",
    "plt.rcParams[\"figure.facecolor\"]=\"white\"\n",
    "plt.rcParams[\"figure.figsize\"]=(8, 6)\n",
    "\n",
    "# load data\n",
    "data = np.loadtxt('../src/silicon/si_bands.dat.gnu')\n",
    "\n",
    "k = np.unique(data[:, 0])\n",
    "bands = np.reshape(data[:, 1], (-1, len(k)))\n",
    "\n",
    "for band in range(len(bands)):\n",
    "    plt.plot(k, bands[band, :], linewidth=1, alpha=0.5, color='k')\n",
    "plt.xlim(min(k), max(k))\n",
    "\n",
    "# Fermi energy\n",
    "plt.axhline(6.6416, linestyle=(0, (5, 5)), linewidth=0.75, color='k', alpha=0.5)\n",
    "# High symmetry k-points (check bands_pp.out)\n",
    "plt.axvline(0.8660, linewidth=0.75, color='k', alpha=0.5)\n",
    "plt.axvline(1.8660, linewidth=0.75, color='k', alpha=0.5)\n",
    "plt.axvline(2.2196, linewidth=0.75, color='k', alpha=0.5)\n",
    "# text labels\n",
    "plt.xticks(ticks= [0, 0.8660, 1.8660, 2.2196, 3.2802], \\\n",
    "           labels=['L', '$\\Gamma$', 'X', 'U', '$\\Gamma$'])\n",
    "plt.ylabel(\"Energy (eV)\")\n",
    "plt.text(2.3, 5.6, 'Fermi energy', fontsize= small)\n",
    "plt.show()"
   ]
  }
 ],
 "metadata": {
  "kernelspec": {
   "display_name": "Python 3.7.13 ('jupyter')",
   "language": "python",
   "name": "python3"
  },
  "language_info": {
   "codemirror_mode": {
    "name": "ipython",
    "version": 3
   },
   "file_extension": ".py",
   "mimetype": "text/x-python",
   "name": "python",
   "nbconvert_exporter": "python",
   "pygments_lexer": "ipython3",
   "version": "3.7.13"
  },
  "orig_nbformat": 4,
  "vscode": {
   "interpreter": {
    "hash": "fdc40bb070700e1c22834687b653a4aae1f0b952ee3749e4bebf394a02ec8994"
   }
  }
 },
 "nbformat": 4,
 "nbformat_minor": 2
}
